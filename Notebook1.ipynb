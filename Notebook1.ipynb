{
 "cells": [
  {
   "cell_type": "code",
   "execution_count": 1,
   "metadata": {},
   "outputs": [],
   "source": [
    "from ImageBlocks import split_image, blocks_similarity\n",
    "import pandas as pd\n",
    "from pathlib import Path\n",
    "import cv2\n",
    "import numpy as np\n",
    "import networkx as nx\n",
    "import matplotlib.pyplot as plt\n",
    "from time import sleep"
   ]
  },
  {
   "cell_type": "code",
   "execution_count": 2,
   "metadata": {
    "collapsed": false,
    "pycharm": {
     "name": "#%%\n"
    }
   },
   "outputs": [],
   "source": [
    "def print_grid(l):\n",
    "    for i in l:\n",
    "        for j in i:\n",
    "            print(j, end=\" \")\n",
    "        print(\"\\n\")\n",
    "    print(\"-------------------------\")"
   ]
  },
  {
   "cell_type": "code",
   "execution_count": 3,
   "metadata": {
    "collapsed": false,
    "pycharm": {
     "name": "#%%\n"
    }
   },
   "outputs": [],
   "source": [
    "def image_segmentation(blocks, sim, stride, thresh=0.9):\n",
    "    if not all([2 <= stride[0] <= blocks.shape[0], 2 <= stride[1] <= blocks.shape[1]]):\n",
    "        print(\"Invalid Stride Size!\")\n",
    "        raise ValueError\n",
    "\n",
    "    block_colors = [[\"-\" for j in range(blocks.shape[1])] for i in range(blocks.shape[0])]\n",
    "    for i in range(blocks.shape[0] - stride[0] + 1):\n",
    "        print(f\"Row{i}\")\n",
    "        for j in range(blocks.shape[1] - stride[1] + 1):\n",
    "            point_neighbours = similarity_with_neighbours(i, j, blocks)\n",
    "\n",
    "            for n in point_neighbours:\n",
    "                x, y = list(map(int, n.split(\"_\")[-2:]))\n",
    "                if point_neighbours[n] >= thresh and block_colors[x][y] == \"-\":\n",
    "                    block_colors[x][y] = \"Y\"\n",
    "                else:\n",
    "                    block_colors[x][y] = \"R\"\n",
    "\n",
    "            print_grid(block_colors)"
   ]
  },
  {
   "cell_type": "code",
   "execution_count": 2,
   "metadata": {
    "pycharm": {
     "name": "#%%\n"
    }
   },
   "outputs": [],
   "source": [
    "def graph_neighbours_similarity(sim):\n",
    "    \"\"\"\n",
    "    Creates a graph using networkx. Keeps the centre node at the centre and joins it\n",
    "    with other blocks present in the dictionary. Edges use the similarity scores as\n",
    "    their labels. Similarity scores are present in the same dictionary as values.\n",
    "    :param sim: dict\n",
    "                Returned from similarity_with_neighbours(), contains the centre block\n",
    "                and its neighbours along with their similarity score.\n",
    "    :return: None\n",
    "    \"\"\"\n",
    "    # Storing the centre block\n",
    "    centre = sim[\"center\"]\n",
    "\n",
    "    # Removing it from the dictionary\n",
    "    sim.pop(\"center\", None)\n",
    "\n",
    "    G = nx.Graph()\n",
    "\n",
    "    G.add_node(centre)\n",
    "    G.add_nodes_from(list(sim.keys()))\n",
    "    G.add_edges_from([(centre, i) for i in sim])\n",
    "\n",
    "    pos = nx.spring_layout(G)\n",
    "\n",
    "    plt.figure(figsize=(9, 9))\n",
    "    nx.draw(G, with_labels=True, node_size=4000)\n",
    "    nx.draw_networkx_edge_labels(G, pos, edge_labels={(centre, i): sim[i] for i in sim}, font_color=\"red\",\n",
    "                                 label_pos=0.8)\n",
    "\n",
    "    plt.axis('off')\n",
    "    plt.show()"
   ]
  },
  {
   "cell_type": "code",
   "execution_count": 3,
   "metadata": {
    "pycharm": {
     "name": "#%%\n"
    }
   },
   "outputs": [],
   "source": [
    "def similarity_with_neighbours(row, col, blocks):\n",
    "    \"\"\"\n",
    "    Finds the neighbours of the (row, col) indexed block in our image blocks.\n",
    "    Then calculates the similarity between the centre block and its neighbours.\n",
    "    :param row: int\n",
    "                Row in which our block is present.\n",
    "    :param col: int\n",
    "                Column in which our block is present.\n",
    "    :param blocks: Numpy array\n",
    "                A list of blocks in which our centre block is present.\n",
    "    :return: sim: dict\n",
    "                A dictionary in which block names are the keys and the similarity\n",
    "                score with the centre acts as their respective values.\n",
    "                First element pair in this dictionary is (centre, Block_{row}_{col})\n",
    "    \"\"\"\n",
    "    h, w = blocks.shape[0], blocks.shape[1]\n",
    "    if not all([0 <= row < h, 0 <= col < w]):\n",
    "        print(\"Invalid coordinates!\")\n",
    "        return -1\n",
    "\n",
    "    centre = blocks[row][col]\n",
    "    pos_index = [-1, 0, 1]\n",
    "    neighbours_index = [(row-i, col-j) for i in pos_index for j in pos_index if (i, j) != (0, 0)]\n",
    "    bool_index = [(i, j) for i, j in neighbours_index if all([0 <= i < h, 0 <= j < w])]\n",
    "    # sim = {\"center\": f\"Block_{row}_{col}\"}\n",
    "    sim = {}\n",
    "    for i, j in bool_index:\n",
    "        sim[f\"Block_{i}_{j}\"] = blocks_similarity(centre, blocks[i][j])\n",
    "\n",
    "\n",
    "    return sim"
   ]
  },
  {
   "cell_type": "code",
   "execution_count": 4,
   "metadata": {
    "pycharm": {
     "name": "#%%\n"
    }
   },
   "outputs": [],
   "source": [
    "path = Path.cwd()/\"bottle.jpg\"\n",
    "img_blocks, img = split_image(str(path), block_size=(200, 200), gray=False, draw_img=True)"
   ]
  },
  {
   "cell_type": "code",
   "execution_count": 5,
   "metadata": {
    "collapsed": false,
    "pycharm": {
     "name": "#%%\n"
    }
   },
   "outputs": [
    {
     "name": "stdout",
     "output_type": "stream",
     "text": [
      "0-0 0-1 0-2 \n",
      "1-0 1-1 1-2 \n",
      "2-0 2-1 2-2 \n",
      "3-0 3-1 3-2 \n"
     ]
    }
   ],
   "source": [
    "for i in range(4):\n",
    "    for j in range(3):\n",
    "        print(img_blocks[i][j], end=\" \")\n",
    "    print()"
   ]
  },
  {
   "cell_type": "code",
   "execution_count": 6,
   "metadata": {
    "collapsed": false,
    "pycharm": {
     "name": "#%%\n"
    }
   },
   "outputs": [],
   "source": [
    "cv2.imshow(\"original image\", img)\n",
    "cv2.waitKey(0)\n",
    "cv2.destroyAllWindows()"
   ]
  },
  {
   "cell_type": "code",
   "execution_count": 8,
   "metadata": {
    "collapsed": false,
    "pycharm": {
     "name": "#%%\n"
    }
   },
   "outputs": [
    {
     "ename": "TypeError",
     "evalue": "'Block' object is not subscriptable",
     "output_type": "error",
     "traceback": [
      "\u001b[1;31m---------------------------------------------------------------------------\u001b[0m",
      "\u001b[1;31mTypeError\u001b[0m                                 Traceback (most recent call last)",
      "\u001b[1;32m<ipython-input-8-135589ba9e10>\u001b[0m in \u001b[0;36m<module>\u001b[1;34m\u001b[0m\n\u001b[1;32m----> 1\u001b[1;33m \u001b[0ms\u001b[0m \u001b[1;33m=\u001b[0m \u001b[0msimilarity_with_neighbours\u001b[0m\u001b[1;33m(\u001b[0m\u001b[1;36m2\u001b[0m\u001b[1;33m,\u001b[0m \u001b[1;36m2\u001b[0m\u001b[1;33m,\u001b[0m \u001b[0mimg_blocks\u001b[0m\u001b[1;33m)\u001b[0m\u001b[1;33m\u001b[0m\u001b[1;33m\u001b[0m\u001b[0m\n\u001b[0m",
      "\u001b[1;32m<ipython-input-3-bdb9e6186d8a>\u001b[0m in \u001b[0;36msimilarity_with_neighbours\u001b[1;34m(row, col, blocks)\u001b[0m\n\u001b[0;32m     26\u001b[0m     \u001b[0msim\u001b[0m \u001b[1;33m=\u001b[0m \u001b[1;33m{\u001b[0m\u001b[1;33m}\u001b[0m\u001b[1;33m\u001b[0m\u001b[1;33m\u001b[0m\u001b[0m\n\u001b[0;32m     27\u001b[0m     \u001b[1;32mfor\u001b[0m \u001b[0mi\u001b[0m\u001b[1;33m,\u001b[0m \u001b[0mj\u001b[0m \u001b[1;32min\u001b[0m \u001b[0mbool_index\u001b[0m\u001b[1;33m:\u001b[0m\u001b[1;33m\u001b[0m\u001b[1;33m\u001b[0m\u001b[0m\n\u001b[1;32m---> 28\u001b[1;33m         \u001b[0msim\u001b[0m\u001b[1;33m[\u001b[0m\u001b[1;34mf\"Block_{i}_{j}\"\u001b[0m\u001b[1;33m]\u001b[0m \u001b[1;33m=\u001b[0m \u001b[0mblocks_similarity\u001b[0m\u001b[1;33m(\u001b[0m\u001b[0mcentre\u001b[0m\u001b[1;33m,\u001b[0m \u001b[0mblocks\u001b[0m\u001b[1;33m[\u001b[0m\u001b[0mi\u001b[0m\u001b[1;33m]\u001b[0m\u001b[1;33m[\u001b[0m\u001b[0mj\u001b[0m\u001b[1;33m]\u001b[0m\u001b[1;33m)\u001b[0m\u001b[1;33m\u001b[0m\u001b[1;33m\u001b[0m\u001b[0m\n\u001b[0m\u001b[0;32m     29\u001b[0m \u001b[1;33m\u001b[0m\u001b[0m\n\u001b[0;32m     30\u001b[0m \u001b[1;33m\u001b[0m\u001b[0m\n",
      "\u001b[1;32mD:\\Desktop\\CV Term Paper\\Codes\\ImageBlocks.py\u001b[0m in \u001b[0;36mblocks_similarity\u001b[1;34m(block1, block2)\u001b[0m\n\u001b[0;32m    115\u001b[0m \u001b[1;33m\u001b[0m\u001b[0m\n\u001b[0;32m    116\u001b[0m     \u001b[1;31m# Calculate SSIM between the two images.\u001b[0m\u001b[1;33m\u001b[0m\u001b[1;33m\u001b[0m\u001b[1;33m\u001b[0m\u001b[0m\n\u001b[1;32m--> 117\u001b[1;33m     \u001b[0msim\u001b[0m\u001b[1;33m,\u001b[0m \u001b[0mdiff\u001b[0m \u001b[1;33m=\u001b[0m \u001b[0mstructural_similarity\u001b[0m\u001b[1;33m(\u001b[0m\u001b[0mblock1\u001b[0m\u001b[1;33m,\u001b[0m \u001b[0mblock2\u001b[0m\u001b[1;33m,\u001b[0m \u001b[0mfull\u001b[0m\u001b[1;33m=\u001b[0m\u001b[1;32mTrue\u001b[0m\u001b[1;33m,\u001b[0m \u001b[0mmultichannel\u001b[0m\u001b[1;33m=\u001b[0m\u001b[0mmul\u001b[0m\u001b[1;33m)\u001b[0m\u001b[1;33m\u001b[0m\u001b[1;33m\u001b[0m\u001b[0m\n\u001b[0m\u001b[0;32m    118\u001b[0m     \u001b[1;32mreturn\u001b[0m \u001b[0mround\u001b[0m\u001b[1;33m(\u001b[0m\u001b[0msim\u001b[0m\u001b[1;33m,\u001b[0m \u001b[1;36m4\u001b[0m\u001b[1;33m)\u001b[0m\u001b[1;33m\u001b[0m\u001b[1;33m\u001b[0m\u001b[0m\n\u001b[0;32m    119\u001b[0m \u001b[1;33m\u001b[0m\u001b[0m\n",
      "\u001b[1;32md:\\installed_softwares\\python 3.7.4\\lib\\site-packages\\skimage\\metrics\\_structural_similarity.py\u001b[0m in \u001b[0;36mstructural_similarity\u001b[1;34m(im1, im2, win_size, gradient, data_range, multichannel, gaussian_weights, full, **kwargs)\u001b[0m\n\u001b[0;32m    105\u001b[0m             \u001b[0mS\u001b[0m \u001b[1;33m=\u001b[0m \u001b[0mnp\u001b[0m\u001b[1;33m.\u001b[0m\u001b[0mempty\u001b[0m\u001b[1;33m(\u001b[0m\u001b[0mim1\u001b[0m\u001b[1;33m.\u001b[0m\u001b[0mshape\u001b[0m\u001b[1;33m)\u001b[0m\u001b[1;33m\u001b[0m\u001b[1;33m\u001b[0m\u001b[0m\n\u001b[0;32m    106\u001b[0m         \u001b[1;32mfor\u001b[0m \u001b[0mch\u001b[0m \u001b[1;32min\u001b[0m \u001b[0mrange\u001b[0m\u001b[1;33m(\u001b[0m\u001b[0mnch\u001b[0m\u001b[1;33m)\u001b[0m\u001b[1;33m:\u001b[0m\u001b[1;33m\u001b[0m\u001b[1;33m\u001b[0m\u001b[0m\n\u001b[1;32m--> 107\u001b[1;33m             ch_result = structural_similarity(im1[..., ch],\n\u001b[0m\u001b[0;32m    108\u001b[0m                                               im2[..., ch], **args)\n\u001b[0;32m    109\u001b[0m             \u001b[1;32mif\u001b[0m \u001b[0mgradient\u001b[0m \u001b[1;32mand\u001b[0m \u001b[0mfull\u001b[0m\u001b[1;33m:\u001b[0m\u001b[1;33m\u001b[0m\u001b[1;33m\u001b[0m\u001b[0m\n",
      "\u001b[1;31mTypeError\u001b[0m: 'Block' object is not subscriptable"
     ]
    }
   ],
   "source": [
    "s = similarity_with_neighbours(2, 2, img_blocks)"
   ]
  },
  {
   "cell_type": "code",
   "execution_count": 63,
   "metadata": {
    "pycharm": {
     "name": "#%%\n"
    }
   },
   "outputs": [
    {
     "ename": "KeyError",
     "evalue": "'center'",
     "output_type": "error",
     "traceback": [
      "\u001b[1;31m---------------------------------------------------------------------------\u001b[0m",
      "\u001b[1;31mKeyError\u001b[0m                                  Traceback (most recent call last)",
      "\u001b[1;32m<ipython-input-63-80703949f2ba>\u001b[0m in \u001b[0;36m<module>\u001b[1;34m\u001b[0m\n\u001b[1;32m----> 1\u001b[1;33m \u001b[0mgraph_neighbours_similarity\u001b[0m\u001b[1;33m(\u001b[0m\u001b[0ms\u001b[0m\u001b[1;33m)\u001b[0m\u001b[1;33m\u001b[0m\u001b[1;33m\u001b[0m\u001b[0m\n\u001b[0m",
      "\u001b[1;32m<ipython-input-25-84ba6e5cbcf8>\u001b[0m in \u001b[0;36mgraph_neighbours_similarity\u001b[1;34m(sim)\u001b[0m\n\u001b[0;32m     10\u001b[0m     \"\"\"\n\u001b[0;32m     11\u001b[0m     \u001b[1;31m# Storing the centre block\u001b[0m\u001b[1;33m\u001b[0m\u001b[1;33m\u001b[0m\u001b[1;33m\u001b[0m\u001b[0m\n\u001b[1;32m---> 12\u001b[1;33m     \u001b[0mcentre\u001b[0m \u001b[1;33m=\u001b[0m \u001b[0msim\u001b[0m\u001b[1;33m[\u001b[0m\u001b[1;34m\"center\"\u001b[0m\u001b[1;33m]\u001b[0m\u001b[1;33m\u001b[0m\u001b[1;33m\u001b[0m\u001b[0m\n\u001b[0m\u001b[0;32m     13\u001b[0m \u001b[1;33m\u001b[0m\u001b[0m\n\u001b[0;32m     14\u001b[0m     \u001b[1;31m# Removing it from the dictionary\u001b[0m\u001b[1;33m\u001b[0m\u001b[1;33m\u001b[0m\u001b[1;33m\u001b[0m\u001b[0m\n",
      "\u001b[1;31mKeyError\u001b[0m: 'center'"
     ]
    }
   ],
   "source": [
    "graph_neighbours_similarity(s)"
   ]
  },
  {
   "cell_type": "code",
   "execution_count": 6,
   "metadata": {
    "collapsed": false,
    "pycharm": {
     "name": "#%%\n"
    }
   },
   "outputs": [],
   "source": [
    "class Block:\n",
    "    def __init__(self):\n",
    "        self.name = \"Dummy\"\n",
    "        self.data = []\n",
    "        self.shape = len(self.data)"
   ]
  },
  {
   "cell_type": "code",
   "execution_count": 7,
   "metadata": {
    "collapsed": false,
    "pycharm": {
     "name": "#%%\n"
    }
   },
   "outputs": [],
   "source": [
    "a = Block()\n",
    "b = Block()\n",
    "c = Block()\n",
    "d = Block()"
   ]
  },
  {
   "cell_type": "code",
   "execution_count": 8,
   "metadata": {
    "collapsed": false,
    "pycharm": {
     "name": "#%%\n"
    }
   },
   "outputs": [],
   "source": [
    "blocks = np.array([a, b, c, d])"
   ]
  },
  {
   "cell_type": "code",
   "execution_count": 9,
   "metadata": {
    "collapsed": false,
    "pycharm": {
     "name": "#%%\n"
    }
   },
   "outputs": [
    {
     "data": {
      "text/plain": [
       "(4,)"
      ]
     },
     "execution_count": 9,
     "metadata": {},
     "output_type": "execute_result"
    }
   ],
   "source": [
    "blocks.shape"
   ]
  },
  {
   "cell_type": "code",
   "execution_count": 3,
   "metadata": {
    "collapsed": false,
    "pycharm": {
     "name": "#%%\n"
    }
   },
   "outputs": [],
   "source": [
    "from Segmentation import random_color"
   ]
  },
  {
   "cell_type": "code",
   "execution_count": 4,
   "metadata": {
    "collapsed": false,
    "pycharm": {
     "name": "#%%\n"
    }
   },
   "outputs": [
    {
     "data": {
      "text/plain": [
       "(231, 73, 208)"
      ]
     },
     "execution_count": 4,
     "metadata": {},
     "output_type": "execute_result"
    }
   ],
   "source": [
    "random_color()"
   ]
  },
  {
   "cell_type": "code",
   "execution_count": null,
   "metadata": {
    "collapsed": false,
    "pycharm": {
     "name": "#%%\n"
    }
   },
   "outputs": [],
   "source": []
  }
 ],
 "metadata": {
  "kernelspec": {
   "display_name": "Python 3.7.13 ('nlp_env')",
   "language": "python",
   "name": "python3"
  },
  "language_info": {
   "codemirror_mode": {
    "name": "ipython",
    "version": 3
   },
   "file_extension": ".py",
   "mimetype": "text/x-python",
   "name": "python",
   "nbconvert_exporter": "python",
   "pygments_lexer": "ipython3",
   "version": "3.7.13"
  },
  "toc": {
   "base_numbering": 1,
   "nav_menu": {},
   "number_sections": true,
   "sideBar": true,
   "skip_h1_title": false,
   "title_cell": "Table of Contents",
   "title_sidebar": "Contents",
   "toc_cell": false,
   "toc_position": {},
   "toc_section_display": true,
   "toc_window_display": false
  },
  "vscode": {
   "interpreter": {
    "hash": "6c2ec36bf5474a49f802fe8e64a6b877f78407352ed37ace691d2f79d017b907"
   }
  }
 },
 "nbformat": 4,
 "nbformat_minor": 1
}
